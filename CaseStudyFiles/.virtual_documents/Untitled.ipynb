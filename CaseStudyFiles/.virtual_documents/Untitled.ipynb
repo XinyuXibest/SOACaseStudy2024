import pandas as pd
import seaborn as sns

mr = pd.read_csv('mortality_rate.csv')

sns.lineplot(data = mr, x = 'age', y = 'mortality_rate')

econ_data = pd.read_csv('economic_data.csv')

econ_data

policy_data = pd.read_csv('./2024-srcsc-superlife-inforce-dataset.csv')

policy_data = policy_data.drop([0,1])
policy_data.index = range(0, policy_data.shape[0])
policy_data.columns = policy_data.iloc[0,:]
policy_data = policy_data.drop([0])

policy_data.columns = [c.replace('.','_').lower() for c in policy_data.columns]

policy_data.death_indicator.describe()

policy_data.death_indicator.value_counts().index

policy_data.death_indicator.shape[0]- sum([1 if i == 1 else 0 for i in policy_data.death_indicator.isna()])

policy_data.death_indicator.shape[0]- sum([0 if i == 1 else 1 for i in policy_data.death_indicator])

sns.barplot(data = pd.DataFrame({'x':policy_data.region.value})



policy_data = policy_data.convert_dtypes()

policy_data.sex = [0 if g == 'F' else 1 for g in policy_data.sex]
sex_conversion_dict = {'M': 0, 'F': 1}
risk_conversion_dict = {'very low risk': 0, 'low risk': 1, 'moderate risk': 2,
'high risk': 3}
urban_conversion_dict = {'Urban': 0, 'Rural': 1}
lapse_indicator_conversion_dict: {1.0: 1, '1': 1, 'Y': 1}
policy_data.underwriting_class = [risk_conversion_dict[uwc] for uwc 
                                  in policy_data.underwriting_class]

policy_data = policy_data.astype({'issue_year':'int', 'issue_age':'int',
                 'face_amount':'int', 'death_indicator': 'int',
                 'year_of_death':'int', 'lapse_indicator': 'int', 
                 'year_of_lapse':'int','cause_of_death': 'string'})



policy_data.columns

policy_data.

policy_data.year_of_lapse().index

policy_data.sex.value_counts()

Around 62% of the policies are T20

convert_dtypes

policy_data.distribution_channel.value_counts()

policy_data['age_at_death'] = policy_data['year_of_death'] - policy_data['issue_year']



policy_data.year_of_death[policy_data.year_of_death.notna()]

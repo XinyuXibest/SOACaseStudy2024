{
 "cells": [
  {
   "cell_type": "code",
   "execution_count": 1,
   "id": "0e85c532-c0fc-4c90-b7e3-ecbf13ec1f1e",
   "metadata": {},
   "outputs": [
    {
     "name": "stderr",
     "output_type": "stream",
     "text": [
      "/var/folders/7q/63cgxnn50sl5zwxkchv_j2cr0000gn/T/ipykernel_14402/3584942142.py:15: DtypeWarning: Columns (2,3,5,9,11,12,13,14) have mixed types. Specify dtype option on import or set low_memory=False.\n",
      "  policy_data = pd.read_csv('../DataFiles/2024-srcsc-superlife-inforce-dataset.csv')\n"
     ]
    },
    {
     "data": {
      "text/plain": [
       "36961"
      ]
     },
     "execution_count": 1,
     "metadata": {},
     "output_type": "execute_result"
    },
    {
     "data": {
      "image/png": "[encoded data removed]",
      "text/plain": [
       "<Figure size 640x480 with 1 Axes>"
      ]
     },
     "metadata": {},
     "output_type": "display_data"
    }
   ],
   "source": [
    "import pandas as pd\n",
    "import numpy as np\n",
    "import seaborn as sns\n",
    "import matplotlib.pyplot as plt\n",
    "\n",
    "\n",
    "mr = pd.read_csv('../DataFiles/mortality_rate.csv')\n",
    "\n",
    "sns.lineplot(data = mr, x = 'age', y = 'mortality_rate')\n",
    "\n",
    "econ_data = pd.read_csv('../DataFiles/economic_data.csv')\n",
    "\n",
    "econ_data\n",
    "\n",
    "policy_data = pd.read_csv('../DataFiles/2024-srcsc-superlife-inforce-dataset.csv')\n",
    "\n",
    "policy_data = policy_data.drop([0,1])\n",
    "policy_data.index = range(0, policy_data.shape[0])\n",
    "policy_data.columns = policy_data.iloc[0,:]\n",
    "policy_data = policy_data.drop([0])\n",
    "\n",
    "policy_data.columns = [c.replace('.','_').lower() for c in policy_data.columns]\n",
    "\n",
    "policy_data.death_indicator.describe()\n",
    "\n",
    "policy_data.death_indicator.value_counts().index\n",
    "\n",
    "policy_data.death_indicator.shape[0]- sum([1 if i == 1 else 0 for i in policy_data.death_indicator.isna()])\n",
    "\n",
    "policy_data.death_indicator.shape[0]- sum([0 if i == 1 else 1 for i in policy_data.death_indicator])"
   ]
  },
  {
   "cell_type": "code",
   "execution_count": 2,
   "id": "77af6caa-465e-4323-bc11-699ba282774b",
   "metadata": {},
   "outputs": [
    {
     "data": {
      "text/plain": [
       "1         1\n",
       "2         0\n",
       "3         1\n",
       "4         1\n",
       "5         1\n",
       "         ..\n",
       "978578    0\n",
       "978579    0\n",
       "978580    0\n",
       "978581    0\n",
       "978582    0\n",
       "Name: lapse_indicator, Length: 978582, dtype: object"
      ]
     },
     "execution_count": 2,
     "metadata": {},
     "output_type": "execute_result"
    }
   ],
   "source": [
    "policy_data.lapse_indicator.fillna(0)"
   ]
  },
  {
   "cell_type": "code",
   "execution_count": 3,
   "id": "78ce3afc-584e-4988-b58c-bb4e9f1d5e57",
   "metadata": {},
   "outputs": [
    {
     "data": {
      "text/plain": [
       "array([2017.0, 2020.0, 2011.0, 2010.0, 2015.0, 2008.0, 2009.0, 2022.0,\n",
       "       2013.0, 2012.0, 2019.0, 2018.0, 2014.0, 2021.0, 2016.0, 2023.0],\n",
       "      dtype=object)"
      ]
     },
     "execution_count": 3,
     "metadata": {},
     "output_type": "execute_result"
    }
   ],
   "source": [
    "policy_data.year_of_lapse[policy_data.lapse_indicator=='Y'].unique()\n",
    "# a lapse indicator of 'Y' is also associated with a year of lapse"
   ]
  },
  {
   "cell_type": "code",
   "execution_count": 4,
   "id": "e099cb30-65de-404a-92db-2be1112b7008",
   "metadata": {},
   "outputs": [],
   "source": [
    "policy_data.death_indicator = policy_data.death_indicator.fillna(0)\n",
    "policy_data.lapse_indicator[policy_data.lapse_indicator == 'Y'] = 1"
   ]
  },
  {
   "cell_type": "code",
   "execution_count": 5,
   "id": "a79a1055-17d2-487a-b086-ec709059ae7f",
   "metadata": {},
   "outputs": [],
   "source": [
    "policy_data.death_indicator = policy_data.death_indicator.fillna(0)"
   ]
  },
  {
   "cell_type": "code",
   "execution_count": 6,
   "id": "9e828e48-5deb-4e42-a580-39665c9fa9a7",
   "metadata": {
    "scrolled": true
   },
   "outputs": [],
   "source": [
    "policy_data = policy_data.astype({'issue_year':'int', 'issue_age':'int',\n",
    "    'face_amount':'int',  'year_of_death':'float', 'death_indicator': 'float',\n",
    "    'year_of_lapse':'float', 'lapse_indicator': 'float', 'region':'int'})\n",
    "\n",
    "                 # 'year_of_death':'int', 'lapse_indicator': 'int', \n",
    "                 # 'year_of_lapse':'int'})"
   ]
  },
  {
   "cell_type": "code",
   "execution_count": 7,
   "id": "a603c381-cdbc-423a-9790-0462cc1ca69f",
   "metadata": {},
   "outputs": [
    {
     "data": {
      "text/plain": [
       "array([1, 6, 2, 3, 4, 5])"
      ]
     },
     "execution_count": 7,
     "metadata": {},
     "output_type": "execute_result"
    }
   ],
   "source": [
    "policy_data.region.unique()"
   ]
  },
  {
   "cell_type": "code",
   "execution_count": 8,
   "id": "3f3aa292-f809-47f4-9e6e-32b0b526d7cd",
   "metadata": {},
   "outputs": [
    {
     "data": {
      "text/plain": [
       "array(['F', 'M'], dtype=object)"
      ]
     },
     "execution_count": 8,
     "metadata": {},
     "output_type": "execute_result"
    }
   ],
   "source": [
    "policy_data.sex.unique()"
   ]
  },
  {
   "cell_type": "code",
   "execution_count": 9,
   "id": "3fa0b2d8-1f3f-46c6-878d-50153a12325d",
   "metadata": {},
   "outputs": [
    {
     "data": {
      "text/plain": [
       "Index(['policy_number', 'policy_type', 'issue_year', 'issue_age', 'sex',\n",
       "       'face_amount', 'smoker_status', 'underwriting_class', 'urban_vs_rural',\n",
       "       'region', 'distribution_channel', 'death_indicator', 'year_of_death',\n",
       "       'lapse_indicator', 'year_of_lapse', 'cause_of_death'],\n",
       "      dtype='object')"
      ]
     },
     "execution_count": 9,
     "metadata": {},
     "output_type": "execute_result"
    }
   ],
   "source": [
    "policy_data.columns"
   ]
  },
  {
   "cell_type": "code",
   "execution_count": 10,
   "id": "5f611877-cd68-4391-8a28-3740546f5780",
   "metadata": {},
   "outputs": [],
   "source": [
    "# Convert variables to indicators and ordinals\n",
    "\n",
    "policy_data = policy_data.convert_dtypes()\n",
    "\n",
    "conversions = {'sex': {'F': 0, 'M': 1},\n",
    "'underwriting_class': {'very low risk': 0, 'low risk': 1, 'moderate risk': 2,\n",
    "'high risk': 3},\n",
    "'urban_vs_rural': {'Urban': 0, 'Rural': 1},\n",
    "'smoker_status': {'NS':0, 'S':1}}"
   ]
  },
  {
   "cell_type": "code",
   "execution_count": 11,
   "id": "d923b294-0125-4e67-a35e-c4c2fd50da73",
   "metadata": {},
   "outputs": [],
   "source": [
    "for c in list(conversions.keys()):\n",
    "    policy_data[c] = [conversions[c][val] for val in policy_data[c]]"
   ]
  },
  {
   "cell_type": "code",
   "execution_count": 12,
   "id": "99f14d59-0d30-432f-b460-46d7eb9923d2",
   "metadata": {},
   "outputs": [],
   "source": [
    "policy_data['age_at_death'] = policy_data['year_of_death'] - \\\n",
    "    policy_data['issue_year'] + policy_data['issue_age']\n",
    "policy_data['age_at_lapse'] = policy_data['year_of_lapse'] - \\\n",
    "    policy_data['issue_year'] + policy_data['issue_age']"
   ]
  },
  {
   "cell_type": "code",
   "execution_count": 13,
   "id": "21377b0d-b4bc-4f45-961f-7a390ba4f5cc",
   "metadata": {},
   "outputs": [
    {
     "data": {
      "text/plain": [
       "([<matplotlib.axis.XTick at 0x7f9394f67520>,\n",
       "  <matplotlib.axis.XTick at 0x7f9394f674f0>,\n",
       "  <matplotlib.axis.XTick at 0x7f93e4fbbf10>,\n",
       "  <matplotlib.axis.XTick at 0x7f93e54bf220>,\n",
       "  <matplotlib.axis.XTick at 0x7f93e54bfcd0>,\n",
       "  <matplotlib.axis.XTick at 0x7f93e54bf580>,\n",
       "  <matplotlib.axis.XTick at 0x7f93e5afccd0>,\n",
       "  <matplotlib.axis.XTick at 0x7f93e5aef7c0>],\n",
       " [Text(0, 0, '26'),\n",
       "  Text(8, 0, '34'),\n",
       "  Text(16, 0, '42'),\n",
       "  Text(24, 0, '50'),\n",
       "  Text(32, 0, '58'),\n",
       "  Text(40, 0, '66'),\n",
       "  Text(48, 0, '74'),\n",
       "  Text(56, 0, '82')])"
      ]
     },
     "execution_count": 13,
     "metadata": {},
     "output_type": "execute_result"
    },
    {
     "data": {
      "image/png": "[encoded data removed]",
      "text/plain": [
       "<Figure size 640x480 with 1 Axes>"
      ]
     },
     "metadata": {},
     "output_type": "display_data"
    }
   ],
   "source": [
    "sns.barplot(x = policy_data['age_at_death'].value_counts().index, \n",
    "           y = policy_data['age_at_death'].value_counts().values, color = 'g')\n",
    "plt.xticks(ticks = np.arange(0,88-26,8))"
   ]
  },
  {
   "cell_type": "code",
   "execution_count": 14,
   "id": "8bc16ace-12c0-4ce1-a539-471097b04579",
   "metadata": {},
   "outputs": [
    {
     "data": {
      "text/html": [
       "<div>\n",
       "<style scoped>\n",
       "    .dataframe tbody tr th:only-of-type {\n",
       "        vertical-align: middle;\n",
       "    }\n",
       "\n",
       "    .dataframe tbody tr th {\n",
       "        vertical-align: top;\n",
       "    }\n",
       "\n",
       "    .dataframe thead th {\n",
       "        text-align: right;\n",
       "    }\n",
       "</style>\n",
       "<table border=\"1\" class=\"dataframe\">\n",
       "  <thead>\n",
       "    <tr style=\"text-align: right;\">\n",
       "      <th></th>\n",
       "      <th>policy_number</th>\n",
       "      <th>policy_type</th>\n",
       "      <th>issue_year</th>\n",
       "      <th>issue_age</th>\n",
       "      <th>sex</th>\n",
       "      <th>face_amount</th>\n",
       "      <th>smoker_status</th>\n",
       "      <th>underwriting_class</th>\n",
       "      <th>urban_vs_rural</th>\n",
       "      <th>region</th>\n",
       "      <th>distribution_channel</th>\n",
       "      <th>death_indicator</th>\n",
       "      <th>year_of_death</th>\n",
       "      <th>lapse_indicator</th>\n",
       "      <th>year_of_lapse</th>\n",
       "      <th>cause_of_death</th>\n",
       "      <th>age_at_death</th>\n",
       "      <th>age_at_lapse</th>\n",
       "    </tr>\n",
       "  </thead>\n",
       "  <tbody>\n",
       "  </tbody>\n",
       "</table>\n",
       "</div>"
      ],
      "text/plain": [
       "Empty DataFrame\n",
       "Columns: [policy_number, policy_type, issue_year, issue_age, sex, face_amount, smoker_status, underwriting_class, urban_vs_rural, region, distribution_channel, death_indicator, year_of_death, lapse_indicator, year_of_lapse, cause_of_death, age_at_death, age_at_lapse]\n",
       "Index: []"
      ]
     },
     "execution_count": 14,
     "metadata": {},
     "output_type": "execute_result"
    }
   ],
   "source": [
    "policy_data[(policy_data.death_indicator == 1) &  \n",
    "(policy_data.lapse_indicator == 1)]\n",
    "# no policies that have lapsed have death info."
   ]
  },
  {
   "cell_type": "code",
   "execution_count": 15,
   "id": "3c63c189-5291-419a-bfb9-d7964aa88e49",
   "metadata": {},
   "outputs": [],
   "source": [
    "# determine number of years each policy was in effect\n",
    "policy_data['years_in_effect'] = 0\n",
    "policy_data.loc[policy_data.death_indicator == 1, 'years_in_effect'] = \\\n",
    "    policy_data.year_of_death - policy_data.loc[\n",
    "        policy_data.death_indicator == 1, 'issue_year']\n",
    "\n",
    "policy_data.loc[policy_data.lapse_indicator == 1,'years_in_effect'] = \\\n",
    "    policy_data.year_of_lapse - policy_data.loc[\n",
    "        policy_data.lapse_indicator == 1, 'issue_year']\n",
    "\n",
    "policy_data.loc[((policy_data.lapse_indicator != 1) & \n",
    "                  (policy_data.death_indicator != 1)), 'years_in_effect'] = \\\n",
    "     2023 - policy_data.loc[((policy_data.lapse_indicator != 1) & \n",
    "                  (policy_data.death_indicator != 1)),'issue_year']"
   ]
  },
  {
   "cell_type": "code",
   "execution_count": 21,
   "id": "352dfc67-3b3f-4454-b989-a12908648cf2",
   "metadata": {},
   "outputs": [],
   "source": [
    "policy_data['max_age'] = policy_data.years_in_effect + policy_data.issue_age"
   ]
  },
  {
   "cell_type": "code",
   "execution_count": 25,
   "id": "b7b114a2-f4ba-4d86-a4e9-0fca32990a45",
   "metadata": {
    "scrolled": true
   },
   "outputs": [
    {
     "data": {
      "text/plain": [
       "count     978582.0\n",
       "mean     45.818011\n",
       "std      10.726161\n",
       "min           26.0\n",
       "25%           38.0\n",
       "50%           46.0\n",
       "75%           53.0\n",
       "max           87.0\n",
       "Name: max_age, dtype: Float64"
      ]
     },
     "execution_count": 25,
     "metadata": {},
     "output_type": "execute_result"
    }
   ],
   "source": [
    "policy_data['max_age'].describe()"
   ]
  },
  {
   "cell_type": "code",
   "execution_count": 33,
   "id": "26ea1e14-e20a-46b7-a7a1-73fb1f2fbed5",
   "metadata": {},
   "outputs": [
    {
     "data": {
      "text/plain": [
       "max_age\n",
       "26    16419\n",
       "27    16397\n",
       "28    16788\n",
       "29    16814\n",
       "30    17219\n",
       "      ...  \n",
       "83       64\n",
       "84       56\n",
       "85       31\n",
       "86       20\n",
       "87        2\n",
       "Name: count, Length: 62, dtype: Int64"
      ]
     },
     "execution_count": 33,
     "metadata": {},
     "output_type": "execute_result"
    }
   ],
   "source": [
    "policy_data['max_age'].value_counts().sort_index()"
   ]
  },
  {
   "cell_type": "code",
   "execution_count": 58,
   "id": "3c6486ca-50e6-468a-b8e8-598234476209",
   "metadata": {},
   "outputs": [
    {
     "data": {
      "text/plain": [
       "Index(['policy_number', 'policy_type', 'issue_year', 'issue_age', 'sex',\n",
       "       'face_amount', 'smoker_status', 'underwriting_class', 'urban_vs_rural',\n",
       "       'region', 'distribution_channel', 'death_indicator', 'year_of_death',\n",
       "       'lapse_indicator', 'year_of_lapse', 'cause_of_death', 'age_at_death',\n",
       "       'age_at_lapse', 'years_in_effect', 'max_age_attained', 'max_age'],\n",
       "      dtype='object')"
      ]
     },
     "execution_count": 58,
     "metadata": {},
     "output_type": "execute_result"
    }
   ],
   "source": [
    "policy_data.columns"
   ]
  },
  {
   "cell_type": "code",
   "execution_count": 61,
   "id": "cb1c2e5f-2136-4d92-b19e-9e619716c337",
   "metadata": {},
   "outputs": [
    {
     "data": {
      "text/plain": [
       "40376"
      ]
     },
     "execution_count": 61,
     "metadata": {},
     "output_type": "execute_result"
    }
   ],
   "source": [
    "np.count_nonzero(policy_data.death_indicator)"
   ]
  },
  {
   "cell_type": "code",
   "execution_count": 64,
   "id": "2644e5fd-30af-4a41-b0bd-de05dc22f091",
   "metadata": {},
   "outputs": [
    {
     "data": {
      "text/plain": [
       "1442"
      ]
     },
     "execution_count": 64,
     "metadata": {},
     "output_type": "execute_result"
    }
   ],
   "source": [
    "np.count_nonzero(policy_data[policy_data.age_at_death == 63].death_indicator.notna())"
   ]
  },
  {
   "cell_type": "code",
   "execution_count": 80,
   "id": "08f658b2-2107-4dd0-853b-fb80a52b4209",
   "metadata": {},
   "outputs": [],
   "source": [
    "def num_lives(policies, age):\n",
    "    return policies[(policies.max_age >= age) & (policies.issue_age <= age)].shape[0] "
   ]
  },
  {
   "cell_type": "code",
   "execution_count": 96,
   "id": "9abbd222-b46a-4175-96b7-89298346d31d",
   "metadata": {},
   "outputs": [],
   "source": [
    "age_range = range(policy_data.max_age.min(), policy_data.max_age.max()+1)"
   ]
  },
  {
   "cell_type": "code",
   "execution_count": 104,
   "id": "e9b07928-6d6c-4bb2-ab3a-69471ec1e5be",
   "metadata": {},
   "outputs": [],
   "source": [
    "def plot_age_stats(data, title, ylabel):\n",
    "    sns.barplot(x = data.index, y = data.values, color = 'lightgreen')\n",
    "    plt.xticks(ticks = np.arange(0,88-26,8))\n",
    "    plt.title(f'{title}')\n",
    "    plt.xlabel('Age')\n",
    "    plt.ylabel(f'{ylabel}')"
   ]
  },
  {
   "cell_type": "code",
   "execution_count": 105,
   "id": "25d07c7a-ef5b-44d9-a132-e185d2f41fbd",
   "metadata": {
    "scrolled": true
   },
   "outputs": [
    {
     "data": {
      "image/png": "[encoded data removed]",
      "text/plain": [
       "<Figure size 640x480 with 1 Axes>"
      ]
     },
     "metadata": {},
     "output_type": "display_data"
    }
   ],
   "source": [
    "plot_age_stats(life_counts, 'Number of Lives At Each Age', 'Number of Lives')"
   ]
  },
  {
   "cell_type": "markdown",
   "id": "60200ba9-cae5-407e-92f1-075c17c46949",
   "metadata": {},
   "source": [
    "Trend in mortality rates\n",
    "Overlay num deaths, num lives on mortality rate"
   ]
  },
  {
   "cell_type": "code",
   "execution_count": null,
   "id": "23b04ea7-6dc2-47e1-a245-fa9137df9f36",
   "metadata": {},
   "outputs": [],
   "source": [
    "policy_data.age"
   ]
  },
  {
   "cell_type": "code",
   "execution_count": 100,
   "id": "4c7a05e4-e11a-4248-b6c1-56dc82f291cc",
   "metadata": {},
   "outputs": [],
   "source": [
    "def mortality_rate(policies):\n",
    "    return pd.Series({age:\n",
    "            policies.age_at_death.value_counts()[age]\n",
    "            /num_lives(policies,age) for age in age_range})"
   ]
  },
  {
   "cell_type": "code",
   "execution_count": 102,
   "id": "98ab9f5d-165d-4d8f-90d1-7e209d696b39",
   "metadata": {},
   "outputs": [],
   "source": [
    "mr = mortality_rate(policy_data);"
   ]
  },
  {
   "cell_type": "code",
   "execution_count": 110,
   "id": "899a044d-c032-4bd2-b5b7-8ab62e54db5c",
   "metadata": {},
   "outputs": [],
   "source": [
    "def num_lives(policies, age, year):\n",
    "    return policies[(policies.max_age >= age) & \n",
    "                    (policies.issue_age <= age) &\n",
    "                    (policies.issue_year <= year) & \n",
    "                    (policies.max_year >= year)].shape[0]"
   ]
  },
  {
   "cell_type": "code",
   "execution_count": null,
   "id": "c4698229-77a9-48bc-938d-303af1e8868b",
   "metadata": {},
   "outputs": [],
   "source": [
    "def mortality_by_year():\n",
    "    return policies[(policies.max_age >= age) & \n",
    "                    (policies.issue_age <= age) &\n",
    "                    (policies.issue_year <= year) & \n",
    "                    (policies.max_year >= year)].shape[0]"
   ]
  },
  {
   "cell_type": "code",
   "execution_count": 106,
   "id": "8ab6e6fc-2f2d-4b87-b554-133df4ee771a",
   "metadata": {},
   "outputs": [
    {
     "data": {
      "image/png": "[encoded data removed]",
      "text/plain": [
       "<Figure size 640x480 with 1 Axes>"
      ]
     },
     "metadata": {},
     "output_type": "display_data"
    }
   ],
   "source": [
    "plot_age_stats(mr, 'Mortality Rate by Age', 'Mortality Rate')"
   ]
  },
  {
   "cell_type": "code",
   "execution_count": 109,
   "id": "b4eb6517-60a0-4a30-ac80-87a43e434fa0",
   "metadata": {},
   "outputs": [],
   "source": [
    "policy_data['max_year'] = policy_data.issue_year + policy_data.years_in_effect"
   ]
  },
  {
   "cell_type": "code",
   "execution_count": null,
   "id": "1facc571-93e6-48b5-9983-105e9d2da545",
   "metadata": {},
   "outputs": [],
   "source": [
    "for age in policy_data.age_at_death.value_counts().\\\n",
    "sort_index(ascending=False).values:\n",
    "    mortality_rate = policy_data[(policy_data.age_at_death == age)].values/\\\n",
    "    (policy_data.issue_age"
   ]
  },
  {
   "cell_type": "code",
   "execution_count": null,
   "id": "d9277d91-a54b-4a20-8c14-17a345e624b1",
   "metadata": {},
   "outputs": [],
   "source": [
    "policy_data[policy_data['max_age'] == policy_data['max_age'].values"
   ]
  },
  {
   "cell_type": "code",
   "execution_count": null,
   "id": "ede0c8d6-ffec-466f-a5ae-b5e47f6e6c20",
   "metadata": {},
   "outputs": [],
   "source": [
    "policy_data[policy_data.issue_age >= "
   ]
  },
  {
   "cell_type": "code",
   "execution_count": null,
   "id": "c0bc8059-1ddd-4001-8d7e-85a5a0dabd8a",
   "metadata": {},
   "outputs": [],
   "source": [
    "policy_data."
   ]
  },
  {
   "cell_type": "code",
   "execution_count": null,
   "id": "48845b2f-e790-4347-8ebb-8b4fbe38e33e",
   "metadata": {},
   "outputs": [],
   "source": [
    "max(policy_data['years_in_effect'].values)"
   ]
  },
  {
   "cell_type": "code",
   "execution_count": null,
   "id": "a5df2bac-02a9-47bc-bee3-b3857afa7f1f",
   "metadata": {},
   "outputs": [],
   "source": [
    "def policy_check(policy, death_lapse):\n",
    "    policy."
   ]
  },
  {
   "cell_type": "markdown",
   "id": "ac390264-a968-4db3-bcf2-ee47f4354563",
   "metadata": {},
   "source": [
    "find p_x_t, q_x_t"
   ]
  },
  {
   "cell_type": "code",
   "execution_count": null,
   "id": "be59c20f-c3ce-4a5c-a750-ef11f4178b61",
   "metadata": {},
   "outputs": [],
   "source": [
    "policy_data.issue_age.max()"
   ]
  },
  {
   "cell_type": "code",
   "execution_count": null,
   "id": "d757f7d7-82f2-4f6b-96fc-8818109540b5",
   "metadata": {},
   "outputs": [],
   "source": [
    "max_age = policy_data.issue_age.max()\n",
    "min_age = policy_data.issue_age.min()\n",
    "bp = sns.barplot(x = policy_data.issue_age.value_counts().sort_index().index, \n",
    "           y= policy_data.issue_age.value_counts().sort_index().values,\n",
    "           color = 'lightgreen')\n",
    "bp.set_title('Counts of Issue Age')\n",
    "bp.set_xticks(np.arange(4,max_age-min_age+1,5))"
   ]
  },
  {
   "cell_type": "code",
   "execution_count": null,
   "id": "89d154af-b0c4-4db3-b243-4d0f4db97dfd",
   "metadata": {},
   "outputs": [],
   "source": [
    "policy_data['age_at_death'].value_counts().sort_index(ascending = False)"
   ]
  },
  {
   "cell_type": "code",
   "execution_count": null,
   "id": "db74068e-1ed2-49ba-9c62-1272969d92d6",
   "metadata": {},
   "outputs": [],
   "source": [
    "policy_data['years_in_effect'].value_counts().sort_index()"
   ]
  },
  {
   "cell_type": "code",
   "execution_count": null,
   "id": "78cc8bdb-0394-4d50-900c-bafce3198001",
   "metadata": {},
   "outputs": [],
   "source": [
    "policy_data['age_max'] = policy_data.years_in_effect + policy_data.issue_age"
   ]
  },
  {
   "cell_type": "code",
   "execution_count": null,
   "id": "ad752882-44d8-48ac-a22b-3bb39d22d9a8",
   "metadata": {},
   "outputs": [],
   "source": [
    "policy_data['age_max'].value_counts().sort_index(ascending=False)"
   ]
  },
  {
   "cell_type": "code",
   "execution_count": null,
   "id": "0bb78593-0c43-4e8c-aa17-882744058a69",
   "metadata": {},
   "outputs": [],
   "source": [
    "policy_data."
   ]
  },
  {
   "cell_type": "code",
   "execution_count": null,
   "id": "08b0ba7e-0b16-482f-a3f1-451ea2a3a726",
   "metadata": {},
   "outputs": [],
   "source": [
    "def mort_table(policy_data = policy_data, max_yrs = 22):\n",
    "    for i in range(0, max_yrs + 1):\n",
    "        p_x_t_life\n",
    "        p_x_t_no_lapse\n",
    "        "
   ]
  },
  {
   "cell_type": "code",
   "execution_count": null,
   "id": "42303caf-520c-4d5e-895e-1ee9171fdb5e",
   "metadata": {},
   "outputs": [],
   "source": [
    "policy_data"
   ]
  },
  {
   "cell_type": "code",
   "execution_count": null,
   "id": "c9c30abd-27d3-4391-9299-5ac74e997c9c",
   "metadata": {},
   "outputs": [],
   "source": [
    "policy_data['years_in_effect'] = np.min(2023,\n",
    "    np.min(policy_data['year_of_death'], policy_data['year_of_lapse'])) - \\\n",
    "    policy_data['issue_year']\n",
    "    "
   ]
  }
 ],
 "metadata": {
  "kernelspec": {
   "display_name": "Python 3 (ipykernel)",
   "language": "python",
   "name": "python3"
  },
  "language_info": {
   "codemirror_mode": {
    "name": "ipython",
    "version": 3
   },
   "file_extension": ".py",
   "mimetype": "text/x-python",
   "name": "python",
   "nbconvert_exporter": "python",
   "pygments_lexer": "ipython3",
   "version": "3.9.18"
  }
 },
 "nbformat": 4,
 "nbformat_minor": 5
}

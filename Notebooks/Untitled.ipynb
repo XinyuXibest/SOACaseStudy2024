{
 "cells": [
  {
   "cell_type": "code",
   "execution_count": 18,
   "id": "0e85c532-c0fc-4c90-b7e3-ecbf13ec1f1e",
   "metadata": {},
   "outputs": [
    {
     "name": "stderr",
     "output_type": "stream",
     "text": [
      "/var/folders/7q/63cgxnn50sl5zwxkchv_j2cr0000gn/T/ipykernel_99205/3584942142.py:15: DtypeWarning: Columns (2,3,5,9,11,12,13,14) have mixed types. Specify dtype option on import or set low_memory=False.\n",
      "  policy_data = pd.read_csv('../DataFiles/2024-srcsc-superlife-inforce-dataset.csv')\n"
     ]
    },
    {
     "data": {
      "text/plain": [
       "36961"
      ]
     },
     "execution_count": 18,
     "metadata": {},
     "output_type": "execute_result"
    },
    {
     "data": {
      "image/png": "[encoded data removed]",
      "text/plain": [
       "<Figure size 640x480 with 1 Axes>"
      ]
     },
     "metadata": {},
     "output_type": "display_data"
    }
   ],
   "source": [
    "import pandas as pd\n",
    "import numpy as np\n",
    "import seaborn as sns\n",
    "import matplotlib.pyplot as plt\n",
    "\n",
    "\n",
    "mr = pd.read_csv('../DataFiles/mortality_rate.csv')\n",
    "\n",
    "sns.lineplot(data = mr, x = 'age', y = 'mortality_rate')\n",
    "\n",
    "econ_data = pd.read_csv('../DataFiles/economic_data.csv')\n",
    "\n",
    "econ_data\n",
    "\n",
    "policy_data = pd.read_csv('../DataFiles/2024-srcsc-superlife-inforce-dataset.csv')\n",
    "\n",
    "policy_data = policy_data.drop([0,1])\n",
    "policy_data.index = range(0, policy_data.shape[0])\n",
    "policy_data.columns = policy_data.iloc[0,:]\n",
    "policy_data = policy_data.drop([0])\n",
    "\n",
    "policy_data.columns = [c.replace('.','_').lower() for c in policy_data.columns]\n",
    "\n",
    "policy_data.death_indicator.describe()\n",
    "\n",
    "policy_data.death_indicator.value_counts().index\n",
    "\n",
    "policy_data.death_indicator.shape[0]- sum([1 if i == 1 else 0 for i in policy_data.death_indicator.isna()])\n",
    "\n",
    "policy_data.death_indicator.shape[0]- sum([0 if i == 1 else 1 for i in policy_data.death_indicator])"
   ]
  },
  {
   "cell_type": "code",
   "execution_count": 19,
   "id": "77af6caa-465e-4323-bc11-699ba282774b",
   "metadata": {},
   "outputs": [
    {
     "data": {
      "text/plain": [
       "1         1\n",
       "2         0\n",
       "3         1\n",
       "4         1\n",
       "5         1\n",
       "         ..\n",
       "978578    0\n",
       "978579    0\n",
       "978580    0\n",
       "978581    0\n",
       "978582    0\n",
       "Name: lapse_indicator, Length: 978582, dtype: object"
      ]
     },
     "execution_count": 19,
     "metadata": {},
     "output_type": "execute_result"
    }
   ],
   "source": [
    "policy_data.lapse_indicator.fillna(0)"
   ]
  },
  {
   "cell_type": "code",
   "execution_count": 20,
   "id": "78ce3afc-584e-4988-b58c-bb4e9f1d5e57",
   "metadata": {},
   "outputs": [
    {
     "data": {
      "text/plain": [
       "array([2017.0, 2020.0, 2011.0, 2010.0, 2015.0, 2008.0, 2009.0, 2022.0,\n",
       "       2013.0, 2012.0, 2019.0, 2018.0, 2014.0, 2021.0, 2016.0, 2023.0],\n",
       "      dtype=object)"
      ]
     },
     "execution_count": 20,
     "metadata": {},
     "output_type": "execute_result"
    }
   ],
   "source": [
    "policy_data.year_of_lapse[policy_data.lapse_indicator=='Y'].unique()\n",
    "# a lapse indicator of 'Y' is also associated with a year of lapse"
   ]
  },
  {
   "cell_type": "code",
   "execution_count": 21,
   "id": "e099cb30-65de-404a-92db-2be1112b7008",
   "metadata": {},
   "outputs": [],
   "source": [
    "policy_data.death_indicator = policy_data.death_indicator.fillna(0)\n",
    "policy_data.lapse_indicator[policy_data.lapse_indicator == 'Y'] = 1"
   ]
  },
  {
   "cell_type": "code",
   "execution_count": 22,
   "id": "a79a1055-17d2-487a-b086-ec709059ae7f",
   "metadata": {},
   "outputs": [],
   "source": [
    "policy_data.death_indicator = policy_data.death_indicator.fillna(0)"
   ]
  },
  {
   "cell_type": "code",
   "execution_count": 23,
   "id": "9e828e48-5deb-4e42-a580-39665c9fa9a7",
   "metadata": {
    "scrolled": true
   },
   "outputs": [],
   "source": [
    "policy_data = policy_data.astype({'issue_year':'int', 'issue_age':'int',\n",
    "    'face_amount':'int',  'year_of_death':'float', 'death_indicator': 'float',\n",
    "    'year_of_lapse':'float', 'lapse_indicator': 'float', 'region':'int'})\n",
    "\n",
    "                 # 'year_of_death':'int', 'lapse_indicator': 'int', \n",
    "                 # 'year_of_lapse':'int'})"
   ]
  },
  {
   "cell_type": "code",
   "execution_count": 24,
   "id": "a603c381-cdbc-423a-9790-0462cc1ca69f",
   "metadata": {},
   "outputs": [
    {
     "data": {
      "text/plain": [
       "array([1, 6, 2, 3, 4, 5])"
      ]
     },
     "execution_count": 24,
     "metadata": {},
     "output_type": "execute_result"
    }
   ],
   "source": [
    "policy_data.region.unique()"
   ]
  },
  {
   "cell_type": "code",
   "execution_count": 25,
   "id": "3f3aa292-f809-47f4-9e6e-32b0b526d7cd",
   "metadata": {},
   "outputs": [
    {
     "data": {
      "text/plain": [
       "array(['F', 'M'], dtype=object)"
      ]
     },
     "execution_count": 25,
     "metadata": {},
     "output_type": "execute_result"
    }
   ],
   "source": [
    "policy_data.sex.unique()"
   ]
  },
  {
   "cell_type": "code",
   "execution_count": 26,
   "id": "3fa0b2d8-1f3f-46c6-878d-50153a12325d",
   "metadata": {},
   "outputs": [
    {
     "data": {
      "text/plain": [
       "Index(['policy_number', 'policy_type', 'issue_year', 'issue_age', 'sex',\n",
       "       'face_amount', 'smoker_status', 'underwriting_class', 'urban_vs_rural',\n",
       "       'region', 'distribution_channel', 'death_indicator', 'year_of_death',\n",
       "       'lapse_indicator', 'year_of_lapse', 'cause_of_death'],\n",
       "      dtype='object')"
      ]
     },
     "execution_count": 26,
     "metadata": {},
     "output_type": "execute_result"
    }
   ],
   "source": [
    "policy_data.columns"
   ]
  },
  {
   "cell_type": "code",
   "execution_count": 27,
   "id": "5f611877-cd68-4391-8a28-3740546f5780",
   "metadata": {},
   "outputs": [],
   "source": [
    "# Convert variables to indicators and ordinals\n",
    "\n",
    "policy_data = policy_data.convert_dtypes()\n",
    "\n",
    "conversions = {'sex': {'F': 0, 'M': 1},\n",
    "'underwriting_class': {'very low risk': 0, 'low risk': 1, 'moderate risk': 2,\n",
    "'high risk': 3},\n",
    "'urban_vs_rural': {'Urban': 0, 'Rural': 1},\n",
    "'smoker_status': {'NS':0, 'S':1}}"
   ]
  },
  {
   "cell_type": "code",
   "execution_count": 28,
   "id": "d923b294-0125-4e67-a35e-c4c2fd50da73",
   "metadata": {},
   "outputs": [],
   "source": [
    "for c in list(conversions.keys()):\n",
    "    policy_data[c] = [conversions[c][val] for val in policy_data[c]]"
   ]
  },
  {
   "cell_type": "code",
   "execution_count": 29,
   "id": "99f14d59-0d30-432f-b460-46d7eb9923d2",
   "metadata": {},
   "outputs": [],
   "source": [
    "policy_data['age_at_death'] = policy_data['year_of_death'] - \\\n",
    "    policy_data['issue_year'] + policy_data['issue_age']\n",
    "policy_data['age_at_lapse'] = policy_data['year_of_lapse'] - \\\n",
    "    policy_data['issue_year'] + policy_data['issue_age']"
   ]
  },
  {
   "cell_type": "code",
   "execution_count": 30,
   "id": "21377b0d-b4bc-4f45-961f-7a390ba4f5cc",
   "metadata": {},
   "outputs": [
    {
     "data": {
      "text/plain": [
       "([<matplotlib.axis.XTick at 0x7fb6d8557f10>,\n",
       "  <matplotlib.axis.XTick at 0x7fb6d8557ee0>,\n",
       "  <matplotlib.axis.XTick at 0x7fb6d85579d0>,\n",
       "  <matplotlib.axis.XTick at 0x7fb6d8cab910>,\n",
       "  <matplotlib.axis.XTick at 0x7fb6d8cabd90>,\n",
       "  <matplotlib.axis.XTick at 0x7fb6d8c98be0>,\n",
       "  <matplotlib.axis.XTick at 0x7fb6d8b076d0>,\n",
       "  <matplotlib.axis.XTick at 0x7fb6d8b07e20>],\n",
       " [Text(0, 0, '26'),\n",
       "  Text(8, 0, '34'),\n",
       "  Text(16, 0, '42'),\n",
       "  Text(24, 0, '50'),\n",
       "  Text(32, 0, '58'),\n",
       "  Text(40, 0, '66'),\n",
       "  Text(48, 0, '74'),\n",
       "  Text(56, 0, '82')])"
      ]
     },
     "execution_count": 30,
     "metadata": {},
     "output_type": "execute_result"
    },
    {
     "data": {
      "image/png": "[encoded data removed]",
      "text/plain": [
       "<Figure size 640x480 with 1 Axes>"
      ]
     },
     "metadata": {},
     "output_type": "display_data"
    }
   ],
   "source": [
    "sns.barplot(x = policy_data['age_at_death'].value_counts().index, \n",
    "           y = policy_data['age_at_death'].value_counts().values, color = 'g')\n",
    "plt.xticks(ticks = np.arange(0,88-26,8))"
   ]
  },
  {
   "cell_type": "code",
   "execution_count": 40,
   "id": "8bc16ace-12c0-4ce1-a539-471097b04579",
   "metadata": {},
   "outputs": [
    {
     "data": {
      "text/html": [
       "<div>\n",
       "<style scoped>\n",
       "    .dataframe tbody tr th:only-of-type {\n",
       "        vertical-align: middle;\n",
       "    }\n",
       "\n",
       "    .dataframe tbody tr th {\n",
       "        vertical-align: top;\n",
       "    }\n",
       "\n",
       "    .dataframe thead th {\n",
       "        text-align: right;\n",
       "    }\n",
       "</style>\n",
       "<table border=\"1\" class=\"dataframe\">\n",
       "  <thead>\n",
       "    <tr style=\"text-align: right;\">\n",
       "      <th></th>\n",
       "      <th>policy_number</th>\n",
       "      <th>policy_type</th>\n",
       "      <th>issue_year</th>\n",
       "      <th>issue_age</th>\n",
       "      <th>sex</th>\n",
       "      <th>face_amount</th>\n",
       "      <th>smoker_status</th>\n",
       "      <th>underwriting_class</th>\n",
       "      <th>urban_vs_rural</th>\n",
       "      <th>region</th>\n",
       "      <th>distribution_channel</th>\n",
       "      <th>death_indicator</th>\n",
       "      <th>year_of_death</th>\n",
       "      <th>lapse_indicator</th>\n",
       "      <th>year_of_lapse</th>\n",
       "      <th>cause_of_death</th>\n",
       "      <th>age_at_death</th>\n",
       "      <th>age_at_lapse</th>\n",
       "    </tr>\n",
       "  </thead>\n",
       "  <tbody>\n",
       "  </tbody>\n",
       "</table>\n",
       "</div>"
      ],
      "text/plain": [
       "Empty DataFrame\n",
       "Columns: [policy_number, policy_type, issue_year, issue_age, sex, face_amount, smoker_status, underwriting_class, urban_vs_rural, region, distribution_channel, death_indicator, year_of_death, lapse_indicator, year_of_lapse, cause_of_death, age_at_death, age_at_lapse]\n",
       "Index: []"
      ]
     },
     "execution_count": 40,
     "metadata": {},
     "output_type": "execute_result"
    }
   ],
   "source": [
    "policy_data[(policy_data.death_indicator == 1) &  \n",
    "(policy_data.lapse_indicator == 1)]\n",
    "# no policies that have lapsed have death info."
   ]
  },
  {
   "cell_type": "code",
   "execution_count": 59,
   "id": "3c63c189-5291-419a-bfb9-d7964aa88e49",
   "metadata": {},
   "outputs": [],
   "source": [
    "# determine number of years each policy was in effect\n",
    "policy_data['years_in_effect'] = 0\n",
    "policy_data.loc[policy_data.death_indicator == 1,'years_in_effect'] = \\\n",
    "    policy_data.year_of_death - policy_data.loc[\n",
    "        policy_data.death_indicator == 1, 'issue_year']\n",
    "\n",
    "policy_data.loc[policy_data.lapse_indicator == 1,'years_in_effect'] = \\\n",
    "    policy_data.year_of_lapse - policy_data.loc[\n",
    "        policy_data.lapse_indicator == 1, 'issue_year']\n",
    "\n",
    "policy_data.loc[((policy_data.lapse_indicator != 1) & \n",
    "                  (policy_data.death_indicator != 1)), 'years_in_effect'] = \\\n",
    "     2023 - policy_data.loc[((policy_data.lapse_indicator != 1) & \n",
    "                  (policy_data.death_indicator != 1)),'issue_year']"
   ]
  },
  {
   "cell_type": "code",
   "execution_count": null,
   "id": "0ff04450-450b-4ee7-880d-c272f57d47c4",
   "metadata": {},
   "outputs": [],
   "source": [
    "de"
   ]
  },
  {
   "cell_type": "code",
   "execution_count": 121,
   "id": "3eb959cb-ae39-4630-b3c2-e46f429b52d1",
   "metadata": {},
   "outputs": [
    {
     "data": {
      "text/plain": [
       "Index(['policy_number', 'policy_type', 'issue_year', 'issue_age', 'sex',\n",
       "       'face_amount', 'smoker_status', 'underwriting_class', 'urban_vs_rural',\n",
       "       'region', 'distribution_channel', 'death_indicator', 'year_of_death',\n",
       "       'lapse_indicator', 'year_of_lapse', 'cause_of_death', 'age_at_death',\n",
       "       'age_at_lapse', 'years_in_effect', 'age_max'],\n",
       "      dtype='object')"
      ]
     },
     "execution_count": 121,
     "metadata": {},
     "output_type": "execute_result"
    }
   ],
   "source": [
    "policy_data.columns"
   ]
  },
  {
   "cell_type": "code",
   "execution_count": null,
   "id": "59763f83-47df-42ed-912b-e81ea9f06d57",
   "metadata": {},
   "outputs": [],
   "source": [
    "for age in range"
   ]
  },
  {
   "cell_type": "code",
   "execution_count": 120,
   "id": "b7b114a2-f4ba-4d86-a4e9-0fca32990a45",
   "metadata": {
    "scrolled": true
   },
   "outputs": [
    {
     "data": {
      "text/html": [
       "<div>\n",
       "<style scoped>\n",
       "    .dataframe tbody tr th:only-of-type {\n",
       "        vertical-align: middle;\n",
       "    }\n",
       "\n",
       "    .dataframe tbody tr th {\n",
       "        vertical-align: top;\n",
       "    }\n",
       "\n",
       "    .dataframe thead th {\n",
       "        text-align: right;\n",
       "    }\n",
       "</style>\n",
       "<table border=\"1\" class=\"dataframe\">\n",
       "  <thead>\n",
       "    <tr style=\"text-align: right;\">\n",
       "      <th></th>\n",
       "      <th>policy_number</th>\n",
       "      <th>policy_type</th>\n",
       "      <th>issue_year</th>\n",
       "      <th>issue_age</th>\n",
       "      <th>sex</th>\n",
       "      <th>face_amount</th>\n",
       "      <th>smoker_status</th>\n",
       "      <th>underwriting_class</th>\n",
       "      <th>urban_vs_rural</th>\n",
       "      <th>region</th>\n",
       "      <th>distribution_channel</th>\n",
       "      <th>death_indicator</th>\n",
       "      <th>year_of_death</th>\n",
       "      <th>lapse_indicator</th>\n",
       "      <th>year_of_lapse</th>\n",
       "      <th>cause_of_death</th>\n",
       "      <th>age_at_death</th>\n",
       "      <th>age_at_lapse</th>\n",
       "      <th>years_in_effect</th>\n",
       "      <th>age_max</th>\n",
       "    </tr>\n",
       "  </thead>\n",
       "  <tbody>\n",
       "    <tr>\n",
       "      <th>1</th>\n",
       "      <td>O8FN60R4KXIS</td>\n",
       "      <td>T20</td>\n",
       "      <td>2001</td>\n",
       "      <td>54</td>\n",
       "      <td>0</td>\n",
       "      <td>100000</td>\n",
       "      <td>0</td>\n",
       "      <td>2</td>\n",
       "      <td>0</td>\n",
       "      <td>1</td>\n",
       "      <td>Telemarketer</td>\n",
       "      <td>0</td>\n",
       "      <td>&lt;NA&gt;</td>\n",
       "      <td>1</td>\n",
       "      <td>2020</td>\n",
       "      <td>&lt;NA&gt;</td>\n",
       "      <td>&lt;NA&gt;</td>\n",
       "      <td>73</td>\n",
       "      <td>19</td>\n",
       "      <td>54</td>\n",
       "    </tr>\n",
       "    <tr>\n",
       "      <th>2</th>\n",
       "      <td>K0JK2XD81ZNI</td>\n",
       "      <td>SPWL</td>\n",
       "      <td>2001</td>\n",
       "      <td>54</td>\n",
       "      <td>1</td>\n",
       "      <td>1000000</td>\n",
       "      <td>0</td>\n",
       "      <td>2</td>\n",
       "      <td>1</td>\n",
       "      <td>6</td>\n",
       "      <td>Agent</td>\n",
       "      <td>0</td>\n",
       "      <td>&lt;NA&gt;</td>\n",
       "      <td>&lt;NA&gt;</td>\n",
       "      <td>&lt;NA&gt;</td>\n",
       "      <td>&lt;NA&gt;</td>\n",
       "      <td>&lt;NA&gt;</td>\n",
       "      <td>&lt;NA&gt;</td>\n",
       "      <td>0</td>\n",
       "      <td>54</td>\n",
       "    </tr>\n",
       "    <tr>\n",
       "      <th>3</th>\n",
       "      <td>AH3A98MHTO8H</td>\n",
       "      <td>T20</td>\n",
       "      <td>2001</td>\n",
       "      <td>27</td>\n",
       "      <td>0</td>\n",
       "      <td>50000</td>\n",
       "      <td>0</td>\n",
       "      <td>0</td>\n",
       "      <td>0</td>\n",
       "      <td>1</td>\n",
       "      <td>Telemarketer</td>\n",
       "      <td>0</td>\n",
       "      <td>&lt;NA&gt;</td>\n",
       "      <td>1</td>\n",
       "      <td>2020</td>\n",
       "      <td>&lt;NA&gt;</td>\n",
       "      <td>&lt;NA&gt;</td>\n",
       "      <td>46</td>\n",
       "      <td>19</td>\n",
       "      <td>27</td>\n",
       "    </tr>\n",
       "    <tr>\n",
       "      <th>4</th>\n",
       "      <td>C9QPJMIH8H9Y</td>\n",
       "      <td>T20</td>\n",
       "      <td>2001</td>\n",
       "      <td>55</td>\n",
       "      <td>0</td>\n",
       "      <td>2000000</td>\n",
       "      <td>0</td>\n",
       "      <td>0</td>\n",
       "      <td>1</td>\n",
       "      <td>2</td>\n",
       "      <td>Telemarketer</td>\n",
       "      <td>0</td>\n",
       "      <td>&lt;NA&gt;</td>\n",
       "      <td>1</td>\n",
       "      <td>2020</td>\n",
       "      <td>&lt;NA&gt;</td>\n",
       "      <td>&lt;NA&gt;</td>\n",
       "      <td>74</td>\n",
       "      <td>19</td>\n",
       "      <td>55</td>\n",
       "    </tr>\n",
       "    <tr>\n",
       "      <th>5</th>\n",
       "      <td>2C1HL2XQOWME</td>\n",
       "      <td>T20</td>\n",
       "      <td>2001</td>\n",
       "      <td>39</td>\n",
       "      <td>0</td>\n",
       "      <td>250000</td>\n",
       "      <td>0</td>\n",
       "      <td>2</td>\n",
       "      <td>0</td>\n",
       "      <td>6</td>\n",
       "      <td>Agent</td>\n",
       "      <td>0</td>\n",
       "      <td>&lt;NA&gt;</td>\n",
       "      <td>1</td>\n",
       "      <td>2020</td>\n",
       "      <td>&lt;NA&gt;</td>\n",
       "      <td>&lt;NA&gt;</td>\n",
       "      <td>58</td>\n",
       "      <td>19</td>\n",
       "      <td>39</td>\n",
       "    </tr>\n",
       "    <tr>\n",
       "      <th>...</th>\n",
       "      <td>...</td>\n",
       "      <td>...</td>\n",
       "      <td>...</td>\n",
       "      <td>...</td>\n",
       "      <td>...</td>\n",
       "      <td>...</td>\n",
       "      <td>...</td>\n",
       "      <td>...</td>\n",
       "      <td>...</td>\n",
       "      <td>...</td>\n",
       "      <td>...</td>\n",
       "      <td>...</td>\n",
       "      <td>...</td>\n",
       "      <td>...</td>\n",
       "      <td>...</td>\n",
       "      <td>...</td>\n",
       "      <td>...</td>\n",
       "      <td>...</td>\n",
       "      <td>...</td>\n",
       "      <td>...</td>\n",
       "    </tr>\n",
       "    <tr>\n",
       "      <th>978578</th>\n",
       "      <td>20B62UZVBXMQ</td>\n",
       "      <td>SPWL</td>\n",
       "      <td>2023</td>\n",
       "      <td>52</td>\n",
       "      <td>1</td>\n",
       "      <td>250000</td>\n",
       "      <td>0</td>\n",
       "      <td>0</td>\n",
       "      <td>0</td>\n",
       "      <td>3</td>\n",
       "      <td>Agent</td>\n",
       "      <td>0</td>\n",
       "      <td>&lt;NA&gt;</td>\n",
       "      <td>&lt;NA&gt;</td>\n",
       "      <td>&lt;NA&gt;</td>\n",
       "      <td>&lt;NA&gt;</td>\n",
       "      <td>&lt;NA&gt;</td>\n",
       "      <td>&lt;NA&gt;</td>\n",
       "      <td>0</td>\n",
       "      <td>52</td>\n",
       "    </tr>\n",
       "    <tr>\n",
       "      <th>978579</th>\n",
       "      <td>XQ6FHVTCLZ0B</td>\n",
       "      <td>SPWL</td>\n",
       "      <td>2023</td>\n",
       "      <td>42</td>\n",
       "      <td>1</td>\n",
       "      <td>250000</td>\n",
       "      <td>0</td>\n",
       "      <td>0</td>\n",
       "      <td>0</td>\n",
       "      <td>2</td>\n",
       "      <td>Telemarketer</td>\n",
       "      <td>0</td>\n",
       "      <td>&lt;NA&gt;</td>\n",
       "      <td>&lt;NA&gt;</td>\n",
       "      <td>&lt;NA&gt;</td>\n",
       "      <td>&lt;NA&gt;</td>\n",
       "      <td>&lt;NA&gt;</td>\n",
       "      <td>&lt;NA&gt;</td>\n",
       "      <td>0</td>\n",
       "      <td>42</td>\n",
       "    </tr>\n",
       "    <tr>\n",
       "      <th>978580</th>\n",
       "      <td>Q75O3VLJ3PF7</td>\n",
       "      <td>T20</td>\n",
       "      <td>2023</td>\n",
       "      <td>47</td>\n",
       "      <td>0</td>\n",
       "      <td>2000000</td>\n",
       "      <td>0</td>\n",
       "      <td>2</td>\n",
       "      <td>1</td>\n",
       "      <td>6</td>\n",
       "      <td>Agent</td>\n",
       "      <td>0</td>\n",
       "      <td>&lt;NA&gt;</td>\n",
       "      <td>&lt;NA&gt;</td>\n",
       "      <td>&lt;NA&gt;</td>\n",
       "      <td>&lt;NA&gt;</td>\n",
       "      <td>&lt;NA&gt;</td>\n",
       "      <td>&lt;NA&gt;</td>\n",
       "      <td>0</td>\n",
       "      <td>47</td>\n",
       "    </tr>\n",
       "    <tr>\n",
       "      <th>978581</th>\n",
       "      <td>3ABYOUPRL8D1</td>\n",
       "      <td>SPWL</td>\n",
       "      <td>2023</td>\n",
       "      <td>47</td>\n",
       "      <td>0</td>\n",
       "      <td>2000000</td>\n",
       "      <td>0</td>\n",
       "      <td>0</td>\n",
       "      <td>0</td>\n",
       "      <td>6</td>\n",
       "      <td>Agent</td>\n",
       "      <td>0</td>\n",
       "      <td>&lt;NA&gt;</td>\n",
       "      <td>&lt;NA&gt;</td>\n",
       "      <td>&lt;NA&gt;</td>\n",
       "      <td>&lt;NA&gt;</td>\n",
       "      <td>&lt;NA&gt;</td>\n",
       "      <td>&lt;NA&gt;</td>\n",
       "      <td>0</td>\n",
       "      <td>47</td>\n",
       "    </tr>\n",
       "    <tr>\n",
       "      <th>978582</th>\n",
       "      <td>9O7RBI7QRZK2</td>\n",
       "      <td>T20</td>\n",
       "      <td>2023</td>\n",
       "      <td>46</td>\n",
       "      <td>0</td>\n",
       "      <td>100000</td>\n",
       "      <td>0</td>\n",
       "      <td>0</td>\n",
       "      <td>0</td>\n",
       "      <td>2</td>\n",
       "      <td>Online</td>\n",
       "      <td>0</td>\n",
       "      <td>&lt;NA&gt;</td>\n",
       "      <td>&lt;NA&gt;</td>\n",
       "      <td>&lt;NA&gt;</td>\n",
       "      <td>&lt;NA&gt;</td>\n",
       "      <td>&lt;NA&gt;</td>\n",
       "      <td>&lt;NA&gt;</td>\n",
       "      <td>0</td>\n",
       "      <td>46</td>\n",
       "    </tr>\n",
       "  </tbody>\n",
       "</table>\n",
       "<p>978582 rows × 20 columns</p>\n",
       "</div>"
      ],
      "text/plain": [
       "       policy_number policy_type  issue_year  issue_age  sex  face_amount  \\\n",
       "1       O8FN60R4KXIS         T20        2001         54    0       100000   \n",
       "2       K0JK2XD81ZNI        SPWL        2001         54    1      1000000   \n",
       "3       AH3A98MHTO8H         T20        2001         27    0        50000   \n",
       "4       C9QPJMIH8H9Y         T20        2001         55    0      2000000   \n",
       "5       2C1HL2XQOWME         T20        2001         39    0       250000   \n",
       "...              ...         ...         ...        ...  ...          ...   \n",
       "978578  20B62UZVBXMQ        SPWL        2023         52    1       250000   \n",
       "978579  XQ6FHVTCLZ0B        SPWL        2023         42    1       250000   \n",
       "978580  Q75O3VLJ3PF7         T20        2023         47    0      2000000   \n",
       "978581  3ABYOUPRL8D1        SPWL        2023         47    0      2000000   \n",
       "978582  9O7RBI7QRZK2         T20        2023         46    0       100000   \n",
       "\n",
       "        smoker_status  underwriting_class  urban_vs_rural  region  \\\n",
       "1                   0                   2               0       1   \n",
       "2                   0                   2               1       6   \n",
       "3                   0                   0               0       1   \n",
       "4                   0                   0               1       2   \n",
       "5                   0                   2               0       6   \n",
       "...               ...                 ...             ...     ...   \n",
       "978578              0                   0               0       3   \n",
       "978579              0                   0               0       2   \n",
       "978580              0                   2               1       6   \n",
       "978581              0                   0               0       6   \n",
       "978582              0                   0               0       2   \n",
       "\n",
       "       distribution_channel  death_indicator  year_of_death  lapse_indicator  \\\n",
       "1              Telemarketer                0           <NA>                1   \n",
       "2                     Agent                0           <NA>             <NA>   \n",
       "3              Telemarketer                0           <NA>                1   \n",
       "4              Telemarketer                0           <NA>                1   \n",
       "5                     Agent                0           <NA>                1   \n",
       "...                     ...              ...            ...              ...   \n",
       "978578                Agent                0           <NA>             <NA>   \n",
       "978579         Telemarketer                0           <NA>             <NA>   \n",
       "978580                Agent                0           <NA>             <NA>   \n",
       "978581                Agent                0           <NA>             <NA>   \n",
       "978582               Online                0           <NA>             <NA>   \n",
       "\n",
       "        year_of_lapse cause_of_death  age_at_death  age_at_lapse  \\\n",
       "1                2020           <NA>          <NA>            73   \n",
       "2                <NA>           <NA>          <NA>          <NA>   \n",
       "3                2020           <NA>          <NA>            46   \n",
       "4                2020           <NA>          <NA>            74   \n",
       "5                2020           <NA>          <NA>            58   \n",
       "...               ...            ...           ...           ...   \n",
       "978578           <NA>           <NA>          <NA>          <NA>   \n",
       "978579           <NA>           <NA>          <NA>          <NA>   \n",
       "978580           <NA>           <NA>          <NA>          <NA>   \n",
       "978581           <NA>           <NA>          <NA>          <NA>   \n",
       "978582           <NA>           <NA>          <NA>          <NA>   \n",
       "\n",
       "        years_in_effect  age_max  \n",
       "1                    19       54  \n",
       "2                     0       54  \n",
       "3                    19       27  \n",
       "4                    19       55  \n",
       "5                    19       39  \n",
       "...                 ...      ...  \n",
       "978578                0       52  \n",
       "978579                0       42  \n",
       "978580                0       47  \n",
       "978581                0       47  \n",
       "978582                0       46  \n",
       "\n",
       "[978582 rows x 20 columns]"
      ]
     },
     "execution_count": 120,
     "metadata": {},
     "output_type": "execute_result"
    }
   ],
   "source": [
    "policy_data[policy_data.max_age >= 10]"
   ]
  },
  {
   "cell_type": "code",
   "execution_count": null,
   "id": "ede0c8d6-ffec-466f-a5ae-b5e47f6e6c20",
   "metadata": {},
   "outputs": [],
   "source": [
    "policy_data[policy_data.issue_age >= "
   ]
  },
  {
   "cell_type": "code",
   "execution_count": null,
   "id": "c0bc8059-1ddd-4001-8d7e-85a5a0dabd8a",
   "metadata": {},
   "outputs": [],
   "source": [
    "policy_data."
   ]
  },
  {
   "cell_type": "code",
   "execution_count": 63,
   "id": "48845b2f-e790-4347-8ebb-8b4fbe38e33e",
   "metadata": {},
   "outputs": [
    {
     "data": {
      "text/plain": [
       "22"
      ]
     },
     "execution_count": 63,
     "metadata": {},
     "output_type": "execute_result"
    }
   ],
   "source": [
    "max(policy_data['years_in_effect'].values)"
   ]
  },
  {
   "cell_type": "code",
   "execution_count": null,
   "id": "a5df2bac-02a9-47bc-bee3-b3857afa7f1f",
   "metadata": {},
   "outputs": [],
   "source": [
    "def policy_check(policy, death_lapse):\n",
    "    policy."
   ]
  },
  {
   "cell_type": "markdown",
   "id": "ac390264-a968-4db3-bcf2-ee47f4354563",
   "metadata": {},
   "source": [
    "find p_x_t, q_x_t"
   ]
  },
  {
   "cell_type": "code",
   "execution_count": 88,
   "id": "be59c20f-c3ce-4a5c-a750-ef11f4178b61",
   "metadata": {},
   "outputs": [
    {
     "data": {
      "text/plain": [
       "65"
      ]
     },
     "execution_count": 88,
     "metadata": {},
     "output_type": "execute_result"
    }
   ],
   "source": [
    "policy_data.issue_age.max()"
   ]
  },
  {
   "cell_type": "code",
   "execution_count": 98,
   "id": "d757f7d7-82f2-4f6b-96fc-8818109540b5",
   "metadata": {},
   "outputs": [
    {
     "data": {
      "text/plain": [
       "[<matplotlib.axis.XTick at 0x7fb730257850>,\n",
       " <matplotlib.axis.XTick at 0x7fb730257580>,\n",
       " <matplotlib.axis.XTick at 0x7fb748da4ee0>,\n",
       " <matplotlib.axis.XTick at 0x7fb71d73ebb0>,\n",
       " <matplotlib.axis.XTick at 0x7fb730612be0>,\n",
       " <matplotlib.axis.XTick at 0x7fb71abe9ee0>,\n",
       " <matplotlib.axis.XTick at 0x7fb71abf4d90>,\n",
       " <matplotlib.axis.XTick at 0x7fb6da036d60>]"
      ]
     },
     "execution_count": 98,
     "metadata": {},
     "output_type": "execute_result"
    },
    {
     "data": {
      "image/png": "[encoded data removed]",
      "text/plain": [
       "<Figure size 640x480 with 1 Axes>"
      ]
     },
     "metadata": {},
     "output_type": "display_data"
    }
   ],
   "source": [
    "max_age = policy_data.issue_age.max()\n",
    "min_age = policy_data.issue_age.min()\n",
    "bp = sns.barplot(x = policy_data.issue_age.value_counts().sort_index().index, \n",
    "           y= policy_data.issue_age.value_counts().sort_index().values,\n",
    "           color = 'lightgreen')\n",
    "bp.set_title('Counts of Issue Age')\n",
    "bp.set_xticks(np.arange(4,max_age-min_age+1,5))"
   ]
  },
  {
   "cell_type": "code",
   "execution_count": 107,
   "id": "89d154af-b0c4-4db3-b243-4d0f4db97dfd",
   "metadata": {},
   "outputs": [
    {
     "data": {
      "text/plain": [
       "age_at_death\n",
       "87     2\n",
       "86    20\n",
       "85    31\n",
       "84    56\n",
       "83    64\n",
       "      ..\n",
       "30    87\n",
       "29    71\n",
       "28    58\n",
       "27    28\n",
       "26    20\n",
       "Name: count, Length: 62, dtype: Int64"
      ]
     },
     "execution_count": 107,
     "metadata": {},
     "output_type": "execute_result"
    }
   ],
   "source": [
    "policy_data['age_at_death'].value_counts().sort_index(ascending = False)"
   ]
  },
  {
   "cell_type": "code",
   "execution_count": 119,
   "id": "db74068e-1ed2-49ba-9c62-1272969d92d6",
   "metadata": {},
   "outputs": [
    {
     "data": {
      "text/plain": [
       "years_in_effect\n",
       "0     836056\n",
       "1       8182\n",
       "2       7965\n",
       "3       7538\n",
       "4       6960\n",
       "5       6441\n",
       "6       6314\n",
       "7       5811\n",
       "8       5499\n",
       "9       5168\n",
       "10      4733\n",
       "11      4272\n",
       "12      3924\n",
       "13      3585\n",
       "14      3202\n",
       "15      2824\n",
       "16      2423\n",
       "17      2052\n",
       "18      1654\n",
       "19     53519\n",
       "20       234\n",
       "21       158\n",
       "22        68\n",
       "Name: count, dtype: int64"
      ]
     },
     "execution_count": 119,
     "metadata": {},
     "output_type": "execute_result"
    }
   ],
   "source": [
    "policy_data['years_in_effect'].value_counts().sort_index()"
   ]
  },
  {
   "cell_type": "code",
   "execution_count": 114,
   "id": "78cc8bdb-0394-4d50-900c-bafce3198001",
   "metadata": {},
   "outputs": [],
   "source": [
    "policy_data['age_max'] = policy_data.years_in_effect + policy_data.issue_age"
   ]
  },
  {
   "cell_type": "code",
   "execution_count": 115,
   "id": "ad752882-44d8-48ac-a22b-3bb39d22d9a8",
   "metadata": {},
   "outputs": [
    {
     "data": {
      "text/plain": [
       "age_max\n",
       "65    11830\n",
       "64    12099\n",
       "63    12025\n",
       "62    11843\n",
       "61    12061\n",
       "60    11884\n",
       "59    12078\n",
       "58    12035\n",
       "57    12115\n",
       "56    11938\n",
       "55    32188\n",
       "54    32042\n",
       "53    32225\n",
       "52    32259\n",
       "51    32241\n",
       "50    32196\n",
       "49    32010\n",
       "48    32175\n",
       "47    32285\n",
       "46    32103\n",
       "45    32071\n",
       "44    32254\n",
       "43    32398\n",
       "42    32191\n",
       "41    31983\n",
       "40    32312\n",
       "39    32190\n",
       "38    32496\n",
       "37    32358\n",
       "36    32507\n",
       "35    32075\n",
       "34    20298\n",
       "33    20105\n",
       "32    20179\n",
       "31    20436\n",
       "30    20318\n",
       "29    20098\n",
       "28    20218\n",
       "27    20109\n",
       "26    20354\n",
       "Name: count, dtype: Int64"
      ]
     },
     "execution_count": 115,
     "metadata": {},
     "output_type": "execute_result"
    }
   ],
   "source": [
    "policy_data['age_max'].value_counts().sort_index(ascending=False)"
   ]
  },
  {
   "cell_type": "code",
   "execution_count": 56,
   "id": "08b0ba7e-0b16-482f-a3f1-451ea2a3a726",
   "metadata": {},
   "outputs": [
    {
     "data": {
      "text/plain": [
       "1          True\n",
       "2         False\n",
       "3          True\n",
       "4          True\n",
       "5          True\n",
       "          ...  \n",
       "978578    False\n",
       "978579    False\n",
       "978580    False\n",
       "978581    False\n",
       "978582    False\n",
       "Name: years_in_effect, Length: 978582, dtype: bool"
      ]
     },
     "execution_count": 56,
     "metadata": {},
     "output_type": "execute_result"
    }
   ],
   "source": [
    "def mort_table(policy_data = policy_data, max_yrs = 22):\n",
    "    for i in range(0, max_yrs + 1):\n",
    "        p_x_t_life\n",
    "        p_x_t_no_lapse\n",
    "        "
   ]
  },
  {
   "cell_type": "code",
   "execution_count": 45,
   "id": "42303caf-520c-4d5e-895e-1ee9171fdb5e",
   "metadata": {},
   "outputs": [
    {
     "data": {
      "text/html": [
       "<div>\n",
       "<style scoped>\n",
       "    .dataframe tbody tr th:only-of-type {\n",
       "        vertical-align: middle;\n",
       "    }\n",
       "\n",
       "    .dataframe tbody tr th {\n",
       "        vertical-align: top;\n",
       "    }\n",
       "\n",
       "    .dataframe thead th {\n",
       "        text-align: right;\n",
       "    }\n",
       "</style>\n",
       "<table border=\"1\" class=\"dataframe\">\n",
       "  <thead>\n",
       "    <tr style=\"text-align: right;\">\n",
       "      <th></th>\n",
       "      <th>policy_number</th>\n",
       "      <th>policy_type</th>\n",
       "      <th>issue_year</th>\n",
       "      <th>issue_age</th>\n",
       "      <th>sex</th>\n",
       "      <th>face_amount</th>\n",
       "      <th>smoker_status</th>\n",
       "      <th>underwriting_class</th>\n",
       "      <th>urban_vs_rural</th>\n",
       "      <th>region</th>\n",
       "      <th>distribution_channel</th>\n",
       "      <th>death_indicator</th>\n",
       "      <th>year_of_death</th>\n",
       "      <th>lapse_indicator</th>\n",
       "      <th>year_of_lapse</th>\n",
       "      <th>cause_of_death</th>\n",
       "      <th>age_at_death</th>\n",
       "      <th>age_at_lapse</th>\n",
       "      <th>years_in_effect</th>\n",
       "    </tr>\n",
       "  </thead>\n",
       "  <tbody>\n",
       "    <tr>\n",
       "      <th>1</th>\n",
       "      <td>O8FN60R4KXIS</td>\n",
       "      <td>T20</td>\n",
       "      <td>2001</td>\n",
       "      <td>54</td>\n",
       "      <td>0</td>\n",
       "      <td>100000</td>\n",
       "      <td>0</td>\n",
       "      <td>2</td>\n",
       "      <td>0</td>\n",
       "      <td>1</td>\n",
       "      <td>Telemarketer</td>\n",
       "      <td>0</td>\n",
       "      <td>&lt;NA&gt;</td>\n",
       "      <td>1</td>\n",
       "      <td>2020</td>\n",
       "      <td>&lt;NA&gt;</td>\n",
       "      <td>&lt;NA&gt;</td>\n",
       "      <td>73</td>\n",
       "      <td>0</td>\n",
       "    </tr>\n",
       "    <tr>\n",
       "      <th>2</th>\n",
       "      <td>K0JK2XD81ZNI</td>\n",
       "      <td>SPWL</td>\n",
       "      <td>2001</td>\n",
       "      <td>54</td>\n",
       "      <td>1</td>\n",
       "      <td>1000000</td>\n",
       "      <td>0</td>\n",
       "      <td>2</td>\n",
       "      <td>1</td>\n",
       "      <td>6</td>\n",
       "      <td>Agent</td>\n",
       "      <td>0</td>\n",
       "      <td>&lt;NA&gt;</td>\n",
       "      <td>&lt;NA&gt;</td>\n",
       "      <td>&lt;NA&gt;</td>\n",
       "      <td>&lt;NA&gt;</td>\n",
       "      <td>&lt;NA&gt;</td>\n",
       "      <td>&lt;NA&gt;</td>\n",
       "      <td>0</td>\n",
       "    </tr>\n",
       "    <tr>\n",
       "      <th>3</th>\n",
       "      <td>AH3A98MHTO8H</td>\n",
       "      <td>T20</td>\n",
       "      <td>2001</td>\n",
       "      <td>27</td>\n",
       "      <td>0</td>\n",
       "      <td>50000</td>\n",
       "      <td>0</td>\n",
       "      <td>0</td>\n",
       "      <td>0</td>\n",
       "      <td>1</td>\n",
       "      <td>Telemarketer</td>\n",
       "      <td>0</td>\n",
       "      <td>&lt;NA&gt;</td>\n",
       "      <td>1</td>\n",
       "      <td>2020</td>\n",
       "      <td>&lt;NA&gt;</td>\n",
       "      <td>&lt;NA&gt;</td>\n",
       "      <td>46</td>\n",
       "      <td>0</td>\n",
       "    </tr>\n",
       "    <tr>\n",
       "      <th>4</th>\n",
       "      <td>C9QPJMIH8H9Y</td>\n",
       "      <td>T20</td>\n",
       "      <td>2001</td>\n",
       "      <td>55</td>\n",
       "      <td>0</td>\n",
       "      <td>2000000</td>\n",
       "      <td>0</td>\n",
       "      <td>0</td>\n",
       "      <td>1</td>\n",
       "      <td>2</td>\n",
       "      <td>Telemarketer</td>\n",
       "      <td>0</td>\n",
       "      <td>&lt;NA&gt;</td>\n",
       "      <td>1</td>\n",
       "      <td>2020</td>\n",
       "      <td>&lt;NA&gt;</td>\n",
       "      <td>&lt;NA&gt;</td>\n",
       "      <td>74</td>\n",
       "      <td>0</td>\n",
       "    </tr>\n",
       "    <tr>\n",
       "      <th>5</th>\n",
       "      <td>2C1HL2XQOWME</td>\n",
       "      <td>T20</td>\n",
       "      <td>2001</td>\n",
       "      <td>39</td>\n",
       "      <td>0</td>\n",
       "      <td>250000</td>\n",
       "      <td>0</td>\n",
       "      <td>2</td>\n",
       "      <td>0</td>\n",
       "      <td>6</td>\n",
       "      <td>Agent</td>\n",
       "      <td>0</td>\n",
       "      <td>&lt;NA&gt;</td>\n",
       "      <td>1</td>\n",
       "      <td>2020</td>\n",
       "      <td>&lt;NA&gt;</td>\n",
       "      <td>&lt;NA&gt;</td>\n",
       "      <td>58</td>\n",
       "      <td>0</td>\n",
       "    </tr>\n",
       "    <tr>\n",
       "      <th>...</th>\n",
       "      <td>...</td>\n",
       "      <td>...</td>\n",
       "      <td>...</td>\n",
       "      <td>...</td>\n",
       "      <td>...</td>\n",
       "      <td>...</td>\n",
       "      <td>...</td>\n",
       "      <td>...</td>\n",
       "      <td>...</td>\n",
       "      <td>...</td>\n",
       "      <td>...</td>\n",
       "      <td>...</td>\n",
       "      <td>...</td>\n",
       "      <td>...</td>\n",
       "      <td>...</td>\n",
       "      <td>...</td>\n",
       "      <td>...</td>\n",
       "      <td>...</td>\n",
       "      <td>...</td>\n",
       "    </tr>\n",
       "    <tr>\n",
       "      <th>978578</th>\n",
       "      <td>20B62UZVBXMQ</td>\n",
       "      <td>SPWL</td>\n",
       "      <td>2023</td>\n",
       "      <td>52</td>\n",
       "      <td>1</td>\n",
       "      <td>250000</td>\n",
       "      <td>0</td>\n",
       "      <td>0</td>\n",
       "      <td>0</td>\n",
       "      <td>3</td>\n",
       "      <td>Agent</td>\n",
       "      <td>0</td>\n",
       "      <td>&lt;NA&gt;</td>\n",
       "      <td>&lt;NA&gt;</td>\n",
       "      <td>&lt;NA&gt;</td>\n",
       "      <td>&lt;NA&gt;</td>\n",
       "      <td>&lt;NA&gt;</td>\n",
       "      <td>&lt;NA&gt;</td>\n",
       "      <td>0</td>\n",
       "    </tr>\n",
       "    <tr>\n",
       "      <th>978579</th>\n",
       "      <td>XQ6FHVTCLZ0B</td>\n",
       "      <td>SPWL</td>\n",
       "      <td>2023</td>\n",
       "      <td>42</td>\n",
       "      <td>1</td>\n",
       "      <td>250000</td>\n",
       "      <td>0</td>\n",
       "      <td>0</td>\n",
       "      <td>0</td>\n",
       "      <td>2</td>\n",
       "      <td>Telemarketer</td>\n",
       "      <td>0</td>\n",
       "      <td>&lt;NA&gt;</td>\n",
       "      <td>&lt;NA&gt;</td>\n",
       "      <td>&lt;NA&gt;</td>\n",
       "      <td>&lt;NA&gt;</td>\n",
       "      <td>&lt;NA&gt;</td>\n",
       "      <td>&lt;NA&gt;</td>\n",
       "      <td>0</td>\n",
       "    </tr>\n",
       "    <tr>\n",
       "      <th>978580</th>\n",
       "      <td>Q75O3VLJ3PF7</td>\n",
       "      <td>T20</td>\n",
       "      <td>2023</td>\n",
       "      <td>47</td>\n",
       "      <td>0</td>\n",
       "      <td>2000000</td>\n",
       "      <td>0</td>\n",
       "      <td>2</td>\n",
       "      <td>1</td>\n",
       "      <td>6</td>\n",
       "      <td>Agent</td>\n",
       "      <td>0</td>\n",
       "      <td>&lt;NA&gt;</td>\n",
       "      <td>&lt;NA&gt;</td>\n",
       "      <td>&lt;NA&gt;</td>\n",
       "      <td>&lt;NA&gt;</td>\n",
       "      <td>&lt;NA&gt;</td>\n",
       "      <td>&lt;NA&gt;</td>\n",
       "      <td>0</td>\n",
       "    </tr>\n",
       "    <tr>\n",
       "      <th>978581</th>\n",
       "      <td>3ABYOUPRL8D1</td>\n",
       "      <td>SPWL</td>\n",
       "      <td>2023</td>\n",
       "      <td>47</td>\n",
       "      <td>0</td>\n",
       "      <td>2000000</td>\n",
       "      <td>0</td>\n",
       "      <td>0</td>\n",
       "      <td>0</td>\n",
       "      <td>6</td>\n",
       "      <td>Agent</td>\n",
       "      <td>0</td>\n",
       "      <td>&lt;NA&gt;</td>\n",
       "      <td>&lt;NA&gt;</td>\n",
       "      <td>&lt;NA&gt;</td>\n",
       "      <td>&lt;NA&gt;</td>\n",
       "      <td>&lt;NA&gt;</td>\n",
       "      <td>&lt;NA&gt;</td>\n",
       "      <td>0</td>\n",
       "    </tr>\n",
       "    <tr>\n",
       "      <th>978582</th>\n",
       "      <td>9O7RBI7QRZK2</td>\n",
       "      <td>T20</td>\n",
       "      <td>2023</td>\n",
       "      <td>46</td>\n",
       "      <td>0</td>\n",
       "      <td>100000</td>\n",
       "      <td>0</td>\n",
       "      <td>0</td>\n",
       "      <td>0</td>\n",
       "      <td>2</td>\n",
       "      <td>Online</td>\n",
       "      <td>0</td>\n",
       "      <td>&lt;NA&gt;</td>\n",
       "      <td>&lt;NA&gt;</td>\n",
       "      <td>&lt;NA&gt;</td>\n",
       "      <td>&lt;NA&gt;</td>\n",
       "      <td>&lt;NA&gt;</td>\n",
       "      <td>&lt;NA&gt;</td>\n",
       "      <td>0</td>\n",
       "    </tr>\n",
       "  </tbody>\n",
       "</table>\n",
       "<p>978582 rows × 19 columns</p>\n",
       "</div>"
      ],
      "text/plain": [
       "       policy_number policy_type  issue_year  issue_age  sex  face_amount  \\\n",
       "1       O8FN60R4KXIS         T20        2001         54    0       100000   \n",
       "2       K0JK2XD81ZNI        SPWL        2001         54    1      1000000   \n",
       "3       AH3A98MHTO8H         T20        2001         27    0        50000   \n",
       "4       C9QPJMIH8H9Y         T20        2001         55    0      2000000   \n",
       "5       2C1HL2XQOWME         T20        2001         39    0       250000   \n",
       "...              ...         ...         ...        ...  ...          ...   \n",
       "978578  20B62UZVBXMQ        SPWL        2023         52    1       250000   \n",
       "978579  XQ6FHVTCLZ0B        SPWL        2023         42    1       250000   \n",
       "978580  Q75O3VLJ3PF7         T20        2023         47    0      2000000   \n",
       "978581  3ABYOUPRL8D1        SPWL        2023         47    0      2000000   \n",
       "978582  9O7RBI7QRZK2         T20        2023         46    0       100000   \n",
       "\n",
       "        smoker_status  underwriting_class  urban_vs_rural  region  \\\n",
       "1                   0                   2               0       1   \n",
       "2                   0                   2               1       6   \n",
       "3                   0                   0               0       1   \n",
       "4                   0                   0               1       2   \n",
       "5                   0                   2               0       6   \n",
       "...               ...                 ...             ...     ...   \n",
       "978578              0                   0               0       3   \n",
       "978579              0                   0               0       2   \n",
       "978580              0                   2               1       6   \n",
       "978581              0                   0               0       6   \n",
       "978582              0                   0               0       2   \n",
       "\n",
       "       distribution_channel  death_indicator  year_of_death  lapse_indicator  \\\n",
       "1              Telemarketer                0           <NA>                1   \n",
       "2                     Agent                0           <NA>             <NA>   \n",
       "3              Telemarketer                0           <NA>                1   \n",
       "4              Telemarketer                0           <NA>                1   \n",
       "5                     Agent                0           <NA>                1   \n",
       "...                     ...              ...            ...              ...   \n",
       "978578                Agent                0           <NA>             <NA>   \n",
       "978579         Telemarketer                0           <NA>             <NA>   \n",
       "978580                Agent                0           <NA>             <NA>   \n",
       "978581                Agent                0           <NA>             <NA>   \n",
       "978582               Online                0           <NA>             <NA>   \n",
       "\n",
       "        year_of_lapse cause_of_death  age_at_death  age_at_lapse  \\\n",
       "1                2020           <NA>          <NA>            73   \n",
       "2                <NA>           <NA>          <NA>          <NA>   \n",
       "3                2020           <NA>          <NA>            46   \n",
       "4                2020           <NA>          <NA>            74   \n",
       "5                2020           <NA>          <NA>            58   \n",
       "...               ...            ...           ...           ...   \n",
       "978578           <NA>           <NA>          <NA>          <NA>   \n",
       "978579           <NA>           <NA>          <NA>          <NA>   \n",
       "978580           <NA>           <NA>          <NA>          <NA>   \n",
       "978581           <NA>           <NA>          <NA>          <NA>   \n",
       "978582           <NA>           <NA>          <NA>          <NA>   \n",
       "\n",
       "        years_in_effect  \n",
       "1                     0  \n",
       "2                     0  \n",
       "3                     0  \n",
       "4                     0  \n",
       "5                     0  \n",
       "...                 ...  \n",
       "978578                0  \n",
       "978579                0  \n",
       "978580                0  \n",
       "978581                0  \n",
       "978582                0  \n",
       "\n",
       "[978582 rows x 19 columns]"
      ]
     },
     "execution_count": 45,
     "metadata": {},
     "output_type": "execute_result"
    }
   ],
   "source": [
    "policy_data"
   ]
  },
  {
   "cell_type": "code",
   "execution_count": 31,
   "id": "c9c30abd-27d3-4391-9299-5ac74e997c9c",
   "metadata": {},
   "outputs": [
    {
     "name": "stdout",
     "output_type": "stream",
     "text": [
      "Unexpected exception formatting exception. Falling back to standard exception\n"
     ]
    },
    {
     "name": "stderr",
     "output_type": "stream",
     "text": [
      "Traceback (most recent call last):\n",
      "  File \"/Users/williammohr/opt/anaconda3/lib/python3.9/site-packages/IPython/core/interactiveshell.py\", line 3526, in run_code\n",
      "    exec(code_obj, self.user_global_ns, self.user_ns)\n",
      "  File \"/var/folders/7q/63cgxnn50sl5zwxkchv_j2cr0000gn/T/ipykernel_99205/584069087.py\", line 2, in <module>\n",
      "    np.min(policy_data['year_of_death'], policy_data['year_of_lapse'])) - \\\n",
      "  File \"<__array_function__ internals>\", line 200, in amin\n",
      "  File \"/Users/williammohr/opt/anaconda3/lib/python3.9/site-packages/numpy/core/fromnumeric.py\", line 2946, in amin\n",
      "    return _wrapreduction(a, np.minimum, 'min', axis, None, out,\n",
      "  File \"/Users/williammohr/opt/anaconda3/lib/python3.9/site-packages/numpy/core/fromnumeric.py\", line 84, in _wrapreduction\n",
      "    return reduction(axis=axis, out=out, **passkwargs)\n",
      "  File \"/Users/williammohr/opt/anaconda3/lib/python3.9/site-packages/pandas/core/generic.py\", line 11669, in min\n",
      "    return NDFrame.min(self, axis, skipna, numeric_only, **kwargs)\n",
      "  File \"/Users/williammohr/opt/anaconda3/lib/python3.9/site-packages/pandas/core/generic.py\", line 11169, in min\n",
      "    return self._stat_function(\n",
      "  File \"/Users/williammohr/opt/anaconda3/lib/python3.9/site-packages/pandas/core/generic.py\", line 11158, in _stat_function\n",
      "    return self._reduce(\n",
      "  File \"/Users/williammohr/opt/anaconda3/lib/python3.9/site-packages/pandas/core/series.py\", line 4652, in _reduce\n",
      "    self._get_axis_number(axis)\n",
      "  File \"/Users/williammohr/opt/anaconda3/lib/python3.9/site-packages/pandas/core/generic.py\", line 513, in _get_axis_number\n",
      "    return cls._AXIS_TO_AXIS_NUMBER[axis]\n",
      "TypeError: unhashable type: 'Series'\n",
      "\n",
      "During handling of the above exception, another exception occurred:\n",
      "\n",
      "Traceback (most recent call last):\n",
      "  File \"/Users/williammohr/opt/anaconda3/lib/python3.9/site-packages/IPython/core/interactiveshell.py\", line 2120, in showtraceback\n",
      "    stb = self.InteractiveTB.structured_traceback(\n",
      "  File \"/Users/williammohr/opt/anaconda3/lib/python3.9/site-packages/IPython/core/ultratb.py\", line 1435, in structured_traceback\n",
      "    return FormattedTB.structured_traceback(\n",
      "  File \"/Users/williammohr/opt/anaconda3/lib/python3.9/site-packages/IPython/core/ultratb.py\", line 1326, in structured_traceback\n",
      "    return VerboseTB.structured_traceback(\n",
      "  File \"/Users/williammohr/opt/anaconda3/lib/python3.9/site-packages/IPython/core/ultratb.py\", line 1173, in structured_traceback\n",
      "    formatted_exception = self.format_exception_as_a_whole(etype, evalue, etb, number_of_lines_of_context,\n",
      "  File \"/Users/williammohr/opt/anaconda3/lib/python3.9/site-packages/IPython/core/ultratb.py\", line 1063, in format_exception_as_a_whole\n",
      "    self.get_records(etb, number_of_lines_of_context, tb_offset) if etb else []\n",
      "  File \"/Users/williammohr/opt/anaconda3/lib/python3.9/site-packages/IPython/core/ultratb.py\", line 1155, in get_records\n",
      "    FrameInfo(\n",
      "  File \"/Users/williammohr/opt/anaconda3/lib/python3.9/site-packages/IPython/core/ultratb.py\", line 780, in __init__\n",
      "    ix = inspect.getsourcelines(frame)\n",
      "  File \"/Users/williammohr/opt/anaconda3/lib/python3.9/inspect.py\", line 1006, in getsourcelines\n",
      "    lines, lnum = findsource(object)\n",
      "  File \"/Users/williammohr/opt/anaconda3/lib/python3.9/inspect.py\", line 835, in findsource\n",
      "    raise OSError('could not get source code')\n",
      "OSError: could not get source code\n"
     ]
    }
   ],
   "source": [
    "policy_data['years_in_effect'] = np.min(2023,\n",
    "    np.min(policy_data['year_of_death'], policy_data['year_of_lapse'])) - \\\n",
    "    policy_data['issue_year']\n",
    "    "
   ]
  }
 ],
 "metadata": {
  "kernelspec": {
   "display_name": "Python 3 (ipykernel)",
   "language": "python",
   "name": "python3"
  },
  "language_info": {
   "codemirror_mode": {
    "name": "ipython",
    "version": 3
   },
   "file_extension": ".py",
   "mimetype": "text/x-python",
   "name": "python",
   "nbconvert_exporter": "python",
   "pygments_lexer": "ipython3",
   "version": "3.9.18"
  }
 },
 "nbformat": 4,
 "nbformat_minor": 5
}
